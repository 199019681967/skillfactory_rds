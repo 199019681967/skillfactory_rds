{
 "cells": [
  {
   "cell_type": "code",
   "execution_count": 0,
   "metadata": {
    "_cell_guid": "b1076dfc-b9ad-4769-8c92-a6c4dae69d19",
    "_uuid": "8f2839f25d086af736a60e9eeb907d3b93b6e0e5",
    "colab": {},
    "colab_type": "code",
    "id": "U2D2gTdJVp90"
   },
   "outputs": [],
   "source": [
    "import numpy as np\n",
    "import pandas as pd\n",
    "import seaborn as sns\n",
    "import matplotlib.pyplot as plt\n",
    "from collections import Counter"
   ]
  },
  {
   "cell_type": "code",
   "execution_count": 3,
   "metadata": {
    "_cell_guid": "79c7e3d0-c299-4dcb-8224-4455121ee9b0",
    "_uuid": "d629ff2d2480ee46fbb7e2d37f6b5fab8052498a",
    "colab": {},
    "colab_type": "code",
    "id": "oyGfxL3eVp9-"
   },
   "outputs": [
    {
     "data": {
      "text/html": [
       "<div>\n",
       "<style scoped>\n",
       "    .dataframe tbody tr th:only-of-type {\n",
       "        vertical-align: middle;\n",
       "    }\n",
       "\n",
       "    .dataframe tbody tr th {\n",
       "        vertical-align: top;\n",
       "    }\n",
       "\n",
       "    .dataframe thead th {\n",
       "        text-align: right;\n",
       "    }\n",
       "</style>\n",
       "<table border=\"1\" class=\"dataframe\">\n",
       "  <thead>\n",
       "    <tr style=\"text-align: right;\">\n",
       "      <th></th>\n",
       "      <th>imdb_id</th>\n",
       "      <th>budget</th>\n",
       "      <th>revenue</th>\n",
       "      <th>original_title</th>\n",
       "      <th>cast</th>\n",
       "      <th>director</th>\n",
       "      <th>tagline</th>\n",
       "      <th>overview</th>\n",
       "      <th>runtime</th>\n",
       "      <th>genres</th>\n",
       "      <th>production_companies</th>\n",
       "      <th>release_date</th>\n",
       "      <th>vote_average</th>\n",
       "      <th>release_year</th>\n",
       "    </tr>\n",
       "  </thead>\n",
       "  <tbody>\n",
       "    <tr>\n",
       "      <th>933</th>\n",
       "      <td>tt0265459</td>\n",
       "      <td>12000000</td>\n",
       "      <td>52223306</td>\n",
       "      <td>One Hour Photo</td>\n",
       "      <td>Robin Williams|Connie Nielsen|Michael Vartan|E...</td>\n",
       "      <td>Mark Romanek</td>\n",
       "      <td>The things that we fear the most have already ...</td>\n",
       "      <td>Sy \"the photo guy\" Parrish has lovingly develo...</td>\n",
       "      <td>96</td>\n",
       "      <td>Horror|Thriller</td>\n",
       "      <td>Fox Searchlight Pictures|Catch 23 Entertainment</td>\n",
       "      <td>8/21/2002</td>\n",
       "      <td>6.4</td>\n",
       "      <td>2002</td>\n",
       "    </tr>\n",
       "    <tr>\n",
       "      <th>878</th>\n",
       "      <td>tt0246460</td>\n",
       "      <td>140000000</td>\n",
       "      <td>431971116</td>\n",
       "      <td>Die Another Day</td>\n",
       "      <td>Pierce Brosnan|Halle Berry|Rosamund Pike|Rick ...</td>\n",
       "      <td>Lee Tamahori</td>\n",
       "      <td>Events don't get any bigger than...</td>\n",
       "      <td>The ever-daring James Bond taking on a North K...</td>\n",
       "      <td>133</td>\n",
       "      <td>Adventure|Action|Thriller</td>\n",
       "      <td>Eon Productions</td>\n",
       "      <td>11/17/2002</td>\n",
       "      <td>5.8</td>\n",
       "      <td>2002</td>\n",
       "    </tr>\n",
       "    <tr>\n",
       "      <th>1255</th>\n",
       "      <td>tt1980209</td>\n",
       "      <td>25000000</td>\n",
       "      <td>86175291</td>\n",
       "      <td>Pain &amp; Gain</td>\n",
       "      <td>Mark Wahlberg|Dwayne Johnson|Anthony Mackie|To...</td>\n",
       "      <td>Michael Bay</td>\n",
       "      <td>Their American dream is bigger than yours.</td>\n",
       "      <td>Danny Lupo, manager of the Sun Gym in 1990s Mi...</td>\n",
       "      <td>130</td>\n",
       "      <td>Thriller|Crime|Action</td>\n",
       "      <td>Paramount Pictures|De Line Pictures</td>\n",
       "      <td>4/18/2013</td>\n",
       "      <td>6.1</td>\n",
       "      <td>2013</td>\n",
       "    </tr>\n",
       "    <tr>\n",
       "      <th>545</th>\n",
       "      <td>tt0280707</td>\n",
       "      <td>19800000</td>\n",
       "      <td>87754044</td>\n",
       "      <td>Gosford Park</td>\n",
       "      <td>Helen Mirren|Clive Owen|Maggie Smith|Geraldine...</td>\n",
       "      <td>Robert Altman</td>\n",
       "      <td>Tea at four. Dinner at eight. Murder at midnight.</td>\n",
       "      <td>Multiple storylined drama set in 1932, showing...</td>\n",
       "      <td>137</td>\n",
       "      <td>Drama|Mystery|Thriller</td>\n",
       "      <td>USA Films</td>\n",
       "      <td>11/7/2001</td>\n",
       "      <td>6.6</td>\n",
       "      <td>2001</td>\n",
       "    </tr>\n",
       "    <tr>\n",
       "      <th>647</th>\n",
       "      <td>tt0910936</td>\n",
       "      <td>27000000</td>\n",
       "      <td>101624843</td>\n",
       "      <td>Pineapple Express</td>\n",
       "      <td>Seth Rogen|James Franco|Danny McBride|Gary Col...</td>\n",
       "      <td>David Gordon Green</td>\n",
       "      <td>Put this in your pipe and smoke it.</td>\n",
       "      <td>A stoner and his dealer are forced to go on th...</td>\n",
       "      <td>111</td>\n",
       "      <td>Action|Comedy</td>\n",
       "      <td>Columbia Pictures|Apatow Productions</td>\n",
       "      <td>8/6/2008</td>\n",
       "      <td>6.6</td>\n",
       "      <td>2008</td>\n",
       "    </tr>\n",
       "  </tbody>\n",
       "</table>\n",
       "</div>"
      ],
      "text/plain": [
       "        imdb_id     budget    revenue     original_title  \\\n",
       "933   tt0265459   12000000   52223306     One Hour Photo   \n",
       "878   tt0246460  140000000  431971116    Die Another Day   \n",
       "1255  tt1980209   25000000   86175291        Pain & Gain   \n",
       "545   tt0280707   19800000   87754044       Gosford Park   \n",
       "647   tt0910936   27000000  101624843  Pineapple Express   \n",
       "\n",
       "                                                   cast            director  \\\n",
       "933   Robin Williams|Connie Nielsen|Michael Vartan|E...        Mark Romanek   \n",
       "878   Pierce Brosnan|Halle Berry|Rosamund Pike|Rick ...        Lee Tamahori   \n",
       "1255  Mark Wahlberg|Dwayne Johnson|Anthony Mackie|To...         Michael Bay   \n",
       "545   Helen Mirren|Clive Owen|Maggie Smith|Geraldine...       Robert Altman   \n",
       "647   Seth Rogen|James Franco|Danny McBride|Gary Col...  David Gordon Green   \n",
       "\n",
       "                                                tagline  \\\n",
       "933   The things that we fear the most have already ...   \n",
       "878                 Events don't get any bigger than...   \n",
       "1255         Their American dream is bigger than yours.   \n",
       "545   Tea at four. Dinner at eight. Murder at midnight.   \n",
       "647                 Put this in your pipe and smoke it.   \n",
       "\n",
       "                                               overview  runtime  \\\n",
       "933   Sy \"the photo guy\" Parrish has lovingly develo...       96   \n",
       "878   The ever-daring James Bond taking on a North K...      133   \n",
       "1255  Danny Lupo, manager of the Sun Gym in 1990s Mi...      130   \n",
       "545   Multiple storylined drama set in 1932, showing...      137   \n",
       "647   A stoner and his dealer are forced to go on th...      111   \n",
       "\n",
       "                         genres  \\\n",
       "933             Horror|Thriller   \n",
       "878   Adventure|Action|Thriller   \n",
       "1255      Thriller|Crime|Action   \n",
       "545      Drama|Mystery|Thriller   \n",
       "647               Action|Comedy   \n",
       "\n",
       "                                 production_companies release_date  \\\n",
       "933   Fox Searchlight Pictures|Catch 23 Entertainment    8/21/2002   \n",
       "878                                   Eon Productions   11/17/2002   \n",
       "1255              Paramount Pictures|De Line Pictures    4/18/2013   \n",
       "545                                         USA Films    11/7/2001   \n",
       "647              Columbia Pictures|Apatow Productions     8/6/2008   \n",
       "\n",
       "      vote_average  release_year  \n",
       "933            6.4          2002  \n",
       "878            5.8          2002  \n",
       "1255           6.1          2013  \n",
       "545            6.6          2001  \n",
       "647            6.6          2008  "
      ]
     },
     "execution_count": 3,
     "metadata": {},
     "output_type": "execute_result"
    }
   ],
   "source": [
    "import pandas as pd\n",
    "data = pd.read_csv('movie_bd_v5.csv')\n",
    "data.sample(5)"
   ]
  },
  {
   "cell_type": "code",
   "execution_count": 4,
   "metadata": {
    "colab": {},
    "colab_type": "code",
    "id": "CoYUnagMVp-C"
   },
   "outputs": [
    {
     "data": {
      "text/html": [
       "<div>\n",
       "<style scoped>\n",
       "    .dataframe tbody tr th:only-of-type {\n",
       "        vertical-align: middle;\n",
       "    }\n",
       "\n",
       "    .dataframe tbody tr th {\n",
       "        vertical-align: top;\n",
       "    }\n",
       "\n",
       "    .dataframe thead th {\n",
       "        text-align: right;\n",
       "    }\n",
       "</style>\n",
       "<table border=\"1\" class=\"dataframe\">\n",
       "  <thead>\n",
       "    <tr style=\"text-align: right;\">\n",
       "      <th></th>\n",
       "      <th>budget</th>\n",
       "      <th>revenue</th>\n",
       "      <th>runtime</th>\n",
       "      <th>vote_average</th>\n",
       "      <th>release_year</th>\n",
       "    </tr>\n",
       "  </thead>\n",
       "  <tbody>\n",
       "    <tr>\n",
       "      <th>count</th>\n",
       "      <td>1.889000e+03</td>\n",
       "      <td>1.889000e+03</td>\n",
       "      <td>1889.000000</td>\n",
       "      <td>1889.000000</td>\n",
       "      <td>1889.000000</td>\n",
       "    </tr>\n",
       "    <tr>\n",
       "      <th>mean</th>\n",
       "      <td>5.431083e+07</td>\n",
       "      <td>1.553653e+08</td>\n",
       "      <td>109.658549</td>\n",
       "      <td>6.140762</td>\n",
       "      <td>2007.860773</td>\n",
       "    </tr>\n",
       "    <tr>\n",
       "      <th>std</th>\n",
       "      <td>4.858721e+07</td>\n",
       "      <td>2.146698e+08</td>\n",
       "      <td>18.017041</td>\n",
       "      <td>0.764763</td>\n",
       "      <td>4.468841</td>\n",
       "    </tr>\n",
       "    <tr>\n",
       "      <th>min</th>\n",
       "      <td>5.000000e+06</td>\n",
       "      <td>2.033165e+06</td>\n",
       "      <td>63.000000</td>\n",
       "      <td>3.300000</td>\n",
       "      <td>2000.000000</td>\n",
       "    </tr>\n",
       "    <tr>\n",
       "      <th>25%</th>\n",
       "      <td>2.000000e+07</td>\n",
       "      <td>3.456058e+07</td>\n",
       "      <td>97.000000</td>\n",
       "      <td>5.600000</td>\n",
       "      <td>2004.000000</td>\n",
       "    </tr>\n",
       "    <tr>\n",
       "      <th>50%</th>\n",
       "      <td>3.800000e+07</td>\n",
       "      <td>8.361541e+07</td>\n",
       "      <td>107.000000</td>\n",
       "      <td>6.100000</td>\n",
       "      <td>2008.000000</td>\n",
       "    </tr>\n",
       "    <tr>\n",
       "      <th>75%</th>\n",
       "      <td>7.200000e+07</td>\n",
       "      <td>1.782626e+08</td>\n",
       "      <td>120.000000</td>\n",
       "      <td>6.600000</td>\n",
       "      <td>2012.000000</td>\n",
       "    </tr>\n",
       "    <tr>\n",
       "      <th>max</th>\n",
       "      <td>3.800000e+08</td>\n",
       "      <td>2.781506e+09</td>\n",
       "      <td>214.000000</td>\n",
       "      <td>8.100000</td>\n",
       "      <td>2015.000000</td>\n",
       "    </tr>\n",
       "  </tbody>\n",
       "</table>\n",
       "</div>"
      ],
      "text/plain": [
       "             budget       revenue      runtime  vote_average  release_year\n",
       "count  1.889000e+03  1.889000e+03  1889.000000   1889.000000   1889.000000\n",
       "mean   5.431083e+07  1.553653e+08   109.658549      6.140762   2007.860773\n",
       "std    4.858721e+07  2.146698e+08    18.017041      0.764763      4.468841\n",
       "min    5.000000e+06  2.033165e+06    63.000000      3.300000   2000.000000\n",
       "25%    2.000000e+07  3.456058e+07    97.000000      5.600000   2004.000000\n",
       "50%    3.800000e+07  8.361541e+07   107.000000      6.100000   2008.000000\n",
       "75%    7.200000e+07  1.782626e+08   120.000000      6.600000   2012.000000\n",
       "max    3.800000e+08  2.781506e+09   214.000000      8.100000   2015.000000"
      ]
     },
     "execution_count": 4,
     "metadata": {},
     "output_type": "execute_result"
    }
   ],
   "source": [
    "data.describe()"
   ]
  },
  {
   "cell_type": "markdown",
   "metadata": {
    "colab_type": "text",
    "id": "DTIt7ezGVp-G"
   },
   "source": [
    "# Предобработка"
   ]
  },
  {
   "cell_type": "code",
   "execution_count": 3,
   "metadata": {
    "colab": {},
    "colab_type": "code",
    "id": "jNb40DwKVp-H"
   },
   "outputs": [],
   "source": [
    "answers = {} # создадим словарь для ответов\n",
    "\n",
    "# тут другие ваши предобработки колонок например:\n",
    "\n",
    "#the time given in the dataset is in string format.\n",
    "#So we need to change this in datetime format\n",
    "# ..."
   ]
  },
  {
   "cell_type": "markdown",
   "metadata": {
    "colab_type": "text",
    "id": "YxZaH-nPVp-L"
   },
   "source": [
    "# 1. У какого фильма из списка самый большой бюджет?"
   ]
  },
  {
   "cell_type": "markdown",
   "metadata": {
    "colab_type": "text",
    "id": "Nd-G5gX6Vp-M"
   },
   "source": [
    "Использовать варианты ответов в коде решения запрещено.    \n",
    "Вы думаете и в жизни у вас будут варианты ответов?)"
   ]
  },
  {
   "cell_type": "code",
   "execution_count": 4,
   "metadata": {
    "colab": {},
    "colab_type": "code",
    "id": "uVnXAY5RVp-O"
   },
   "outputs": [],
   "source": [
    "# в словарь вставляем номер вопроса и ваш ответ на него\n",
    "# Пример: \n",
    "answers['1'] = '2. Spider-Man 3 (tt0413300)'\n",
    "# запишите свой вариант ответа\n",
    "answers['1'] = '5. Pirates of the Caribbean: On Stranger Tides (tt1298650)'\n",
    "# если ответили верно, можете добавить комментарий со значком \"+\""
   ]
  },
  {
   "cell_type": "code",
   "execution_count": 0,
   "metadata": {
    "colab": {},
    "colab_type": "code",
    "id": "dZwb3m28Vp-S"
   },
   "outputs": [],
   "source": [
    "data[data.budget == data.budget.max()]"
   ]
  },
  {
   "cell_type": "markdown",
   "metadata": {
    "colab_type": "text",
    "id": "K7L3nbRXVp-X"
   },
   "source": [
    "ВАРИАНТ 2"
   ]
  },
  {
   "cell_type": "code",
   "execution_count": 0,
   "metadata": {
    "colab": {},
    "colab_type": "code",
    "id": "OGaoQI7rVp-X"
   },
   "outputs": [],
   "source": [
    "# можно добавлять разные варианты решения"
   ]
  },
  {
   "cell_type": "markdown",
   "metadata": {
    "colab_type": "text",
    "id": "FNRbbI3vVp-c"
   },
   "source": [
    "# 2. Какой из фильмов самый длительный (в минутах)?"
   ]
  },
  {
   "cell_type": "code",
   "execution_count": 7,
   "metadata": {
    "colab": {},
    "colab_type": "code",
    "id": "vHAoEXNTVp-d"
   },
   "outputs": [],
   "source": [
    "# думаю логику работы с этим словарем вы уже поняли, \n",
    "# по этому не буду больше его дублировать\n",
    "answers['2'] = '2. Gods and Generals (tt0279111)'"
   ]
  },
  {
   "cell_type": "code",
   "execution_count": 0,
   "metadata": {
    "colab": {},
    "colab_type": "code",
    "id": "ot-VX2XrVp-g"
   },
   "outputs": [],
   "source": [
    "data[data.runtime == data.runtime.max()]"
   ]
  },
  {
   "cell_type": "markdown",
   "metadata": {
    "colab_type": "text",
    "id": "bapLlpW8Vp-k"
   },
   "source": [
    "# 3. Какой из фильмов самый короткий (в минутах)?\n",
    "\n",
    "\n",
    "\n"
   ]
  },
  {
   "cell_type": "code",
   "execution_count": 0,
   "metadata": {
    "colab": {},
    "colab_type": "code",
    "id": "YBxaSHuAVp-l"
   },
   "outputs": [],
   "source": [
    "data[data.runtime == data.runtime.min()]"
   ]
  },
  {
   "cell_type": "code",
   "execution_count": 8,
   "metadata": {},
   "outputs": [],
   "source": [
    "answers['3'] = '3. Winnie the Pooh (tt1449283)'"
   ]
  },
  {
   "cell_type": "markdown",
   "metadata": {
    "colab_type": "text",
    "id": "TfQbxbfNVp-p"
   },
   "source": [
    "# 4. Какова средняя длительность фильмов?\n"
   ]
  },
  {
   "cell_type": "code",
   "execution_count": 0,
   "metadata": {
    "colab": {},
    "colab_type": "code",
    "id": "5K6dKZYVVp-q"
   },
   "outputs": [],
   "source": [
    "data.runtime.mean()"
   ]
  },
  {
   "cell_type": "code",
   "execution_count": 34,
   "metadata": {},
   "outputs": [],
   "source": [
    "answers['4'] = '2. 110'"
   ]
  },
  {
   "cell_type": "markdown",
   "metadata": {
    "colab_type": "text",
    "id": "r5TvbnT_Vp-u"
   },
   "source": [
    "# 5. Каково медианное значение длительности фильмов? "
   ]
  },
  {
   "cell_type": "code",
   "execution_count": 0,
   "metadata": {
    "colab": {},
    "colab_type": "code",
    "id": "iBROplKnVp-v"
   },
   "outputs": [],
   "source": [
    "data.runtime.median()"
   ]
  },
  {
   "cell_type": "code",
   "execution_count": 10,
   "metadata": {},
   "outputs": [],
   "source": [
    "answers['5'] = \"1. 107\""
   ]
  },
  {
   "cell_type": "markdown",
   "metadata": {
    "colab_type": "text",
    "id": "39P-deDSVp-y"
   },
   "source": [
    "# 6. Какой самый прибыльный фильм?\n",
    "#### Внимание! Здесь и далее под «прибылью» или «убытками» понимается разность между сборами и бюджетом фильма. (прибыль = сборы - бюджет) в нашем датасете это будет (profit = revenue - budget) "
   ]
  },
  {
   "cell_type": "code",
   "execution_count": 6,
   "metadata": {
    "colab": {},
    "colab_type": "code",
    "id": "UYZh4T9WVp-y"
   },
   "outputs": [],
   "source": [
    "# лучше код получения столбца profit вынести в Предобработку что в начале\n",
    "\n",
    "data[\"profit\"] = data.revenue - data.budget\n",
    "data[data.profit == data.profit.max()]"
   ]
  },
  {
   "cell_type": "code",
   "execution_count": 11,
   "metadata": {},
   "outputs": [],
   "source": [
    "answers['6'] = \"5. Avatar (tt0499549)\""
   ]
  },
  {
   "cell_type": "markdown",
   "metadata": {
    "colab_type": "text",
    "id": "M99JmIX4Vp-2"
   },
   "source": [
    "# 7. Какой фильм самый убыточный? "
   ]
  },
  {
   "cell_type": "code",
   "execution_count": 0,
   "metadata": {
    "colab": {},
    "colab_type": "code",
    "id": "w-D2m4XPVp-3"
   },
   "outputs": [],
   "source": [
    "data[data.profit == data.profit.min()]"
   ]
  },
  {
   "cell_type": "code",
   "execution_count": 12,
   "metadata": {},
   "outputs": [],
   "source": [
    "answers['7'] = \"5. The Lone Ranger (tt1210819)\""
   ]
  },
  {
   "cell_type": "markdown",
   "metadata": {
    "colab_type": "text",
    "id": "wEOM5ERVVp-6"
   },
   "source": [
    "# 8. У скольких фильмов из датасета объем сборов оказался выше бюджета?"
   ]
  },
  {
   "cell_type": "code",
   "execution_count": 0,
   "metadata": {
    "colab": {},
    "colab_type": "code",
    "id": "y00_7HD6Vp-7"
   },
   "outputs": [],
   "source": [
    "data[data.revenue > data.budget].count()"
   ]
  },
  {
   "cell_type": "code",
   "execution_count": 13,
   "metadata": {},
   "outputs": [],
   "source": [
    "answers['8'] = \"1. 1478\""
   ]
  },
  {
   "cell_type": "markdown",
   "metadata": {
    "colab_type": "text",
    "id": "xhpspA9KVp_A"
   },
   "source": [
    "# 9. Какой фильм оказался самым кассовым в 2008 году?"
   ]
  },
  {
   "cell_type": "code",
   "execution_count": 0,
   "metadata": {
    "colab": {},
    "colab_type": "code",
    "id": "MoUyQr9RVp_B"
   },
   "outputs": [],
   "source": [
    "year_2008 = data[data.release_year == 2008]\n",
    "year_2008[year_2008.revenue == year_2008.revenue.max()]"
   ]
  },
  {
   "cell_type": "code",
   "execution_count": 14,
   "metadata": {},
   "outputs": [],
   "source": [
    "answers['9'] = \"4. The Dark Knight (tt0468569)\""
   ]
  },
  {
   "cell_type": "markdown",
   "metadata": {
    "colab_type": "text",
    "id": "Zi4hDKidVp_F"
   },
   "source": [
    "# 10. Самый убыточный фильм за период с 2012 по 2014 г. (включительно)?\n"
   ]
  },
  {
   "cell_type": "code",
   "execution_count": 0,
   "metadata": {
    "colab": {},
    "colab_type": "code",
    "id": "XqyRmufJVp_F"
   },
   "outputs": [],
   "source": [
    "q_10 = data[(data.release_year > 2011) & (data.release_year < 2015)]\n",
    "q_10[q_10.profit == q_10.profit.min()]"
   ]
  },
  {
   "cell_type": "code",
   "execution_count": 15,
   "metadata": {},
   "outputs": [],
   "source": [
    "answers['10'] = \"5. The Lone Ranger (tt1210819)\""
   ]
  },
  {
   "cell_type": "markdown",
   "metadata": {
    "colab_type": "text",
    "id": "EA7Sa9dkVp_I"
   },
   "source": [
    "# 11. Какого жанра фильмов больше всего?"
   ]
  },
  {
   "cell_type": "code",
   "execution_count": 0,
   "metadata": {
    "colab": {},
    "colab_type": "code",
    "id": "zsJAwJ8QVp_J"
   },
   "outputs": [],
   "source": [
    "# эту задачу тоже можно решать разными подходами, попробуй реализовать разные варианты\n",
    "# если будешь добавлять функцию - выноси ее в предобработку что в начале\n",
    "\n",
    "data.genres.value_counts()\n",
    "\n",
    "action = data[data.genres.str.contains(\"Action\")][\"original_title\"].count()\n",
    "adventure = data[data.genres.str.contains(\"Adventure\")][\"original_title\"].count()\n",
    "drama = data[data.genres.str.contains(\"Drama\")][\"original_title\"].count()\n",
    "comedy = data[data.genres.str.contains(\"Comedy\")][\"original_title\"].count()\n",
    "thriller = data[data.genres.str.contains(\"Thriller\")][\"original_title\"].count()\n",
    "\n",
    "action, adventure, drama, comedy, thriller"
   ]
  },
  {
   "cell_type": "code",
   "execution_count": 16,
   "metadata": {},
   "outputs": [],
   "source": [
    "answers['11'] = \"3. Drama\""
   ]
  },
  {
   "cell_type": "markdown",
   "metadata": {
    "colab_type": "text",
    "id": "Ax6g2C8SVp_M"
   },
   "source": [
    "ВАРИАНТ 2"
   ]
  },
  {
   "cell_type": "code",
   "execution_count": 0,
   "metadata": {
    "colab": {},
    "colab_type": "code",
    "id": "otO3SbrSVp_N"
   },
   "outputs": [],
   "source": []
  },
  {
   "cell_type": "markdown",
   "metadata": {
    "colab_type": "text",
    "id": "T9_bPWpkVp_Q"
   },
   "source": [
    "# 12. Фильмы какого жанра чаще всего становятся прибыльными? "
   ]
  },
  {
   "cell_type": "code",
   "execution_count": 0,
   "metadata": {
    "colab": {},
    "colab_type": "code",
    "id": "Tmt8MaK1Vp_R"
   },
   "outputs": [],
   "source": [
    "profitable = data[data.profit > 0]\n",
    "p_drama = profitable[profitable.genres.str.contains(\"Drama\")][\"original_title\"].count()\n",
    "p_comedy = profitable[profitable.genres.str.contains(\"Comedy\")][\"original_title\"].count()\n",
    "p_action = profitable[profitable.genres.str.contains(\"Action\")][\"original_title\"].count()\n",
    "p_thriller = profitable[profitable.genres.str.contains(\"Thriller\")][\"original_title\"].count()\n",
    "p_adventure = profitable[profitable.genres.str.contains(\"Adventure\")][\"original_title\"].count()\n",
    "\n",
    "p_drama, p_comedy, p_action, p_thriller, p_adventure"
   ]
  },
  {
   "cell_type": "code",
   "execution_count": 17,
   "metadata": {},
   "outputs": [],
   "source": [
    "answers['12'] = \"1. Drama\""
   ]
  },
  {
   "cell_type": "markdown",
   "metadata": {
    "colab_type": "text",
    "id": "0F23bgsDVp_U"
   },
   "source": [
    "# 13. У какого режиссера самые большие суммарные кассовые сбооры?"
   ]
  },
  {
   "cell_type": "code",
   "execution_count": 0,
   "metadata": {
    "colab": {},
    "colab_type": "code",
    "id": "K6Z3J8ygVp_X"
   },
   "outputs": [],
   "source": [
    "data.groupby([\"director\"])[\"revenue\"].sum().sort_values(ascending = False)"
   ]
  },
  {
   "cell_type": "code",
   "execution_count": 18,
   "metadata": {},
   "outputs": [],
   "source": [
    "answers['13'] = \"5. Peter Jackson\""
   ]
  },
  {
   "cell_type": "markdown",
   "metadata": {
    "colab_type": "text",
    "id": "PsYC9FgRVp_a"
   },
   "source": [
    "# 14. Какой режисер снял больше всего фильмов в стиле Action?"
   ]
  },
  {
   "cell_type": "code",
   "execution_count": 0,
   "metadata": {
    "colab": {},
    "colab_type": "code",
    "id": "wd2M-wHeVp_b"
   },
   "outputs": [],
   "source": [
    "q_14 = data[data.genres.str.contains(\"Action\", na = False)]\n",
    "\n",
    "director_1 = q_14[q_14.director == \"Ridley Scott\"][\"original_title\"].count()\n",
    "director_2 = q_14[q_14.director == \"Guy Ritchie\"][\"original_title\"].count()\n",
    "director_3 = q_14[q_14.director == \"Robert Rodriguez\"][\"original_title\"].count()\n",
    "director_4 = q_14[q_14.director == \"Quentin Tarantino\"][\"original_title\"].count()\n",
    "director_5 = q_14[q_14.director == \"Tony Scott\"][\"original_title\"].count()\n",
    "\n",
    "director_1, director_2, director_3, director_4, director_5"
   ]
  },
  {
   "cell_type": "code",
   "execution_count": 19,
   "metadata": {},
   "outputs": [],
   "source": [
    "answers['14'] = \"1. Ridley Scott\""
   ]
  },
  {
   "cell_type": "markdown",
   "metadata": {
    "colab_type": "text",
    "id": "PQ0KciD7Vp_f"
   },
   "source": [
    "# 15. Фильмы с каким актером принесли самые высокие кассовые сборы в 2012 году? "
   ]
  },
  {
   "cell_type": "code",
   "execution_count": 0,
   "metadata": {
    "colab": {},
    "colab_type": "code",
    "id": "aga62oeKVp_g"
   },
   "outputs": [],
   "source": [
    "year_2012 = data[data.release_year == 2012]\n",
    "year_2012.groupby([\"cast\"])[\"revenue\"].sum().sort_values(ascending = False)"
   ]
  },
  {
   "cell_type": "code",
   "execution_count": 20,
   "metadata": {},
   "outputs": [],
   "source": [
    "answers['15'] = \"3. Chris Hemsworth\""
   ]
  },
  {
   "cell_type": "markdown",
   "metadata": {
    "colab_type": "text",
    "id": "mWHyyL7QVp_j"
   },
   "source": [
    "# 16. Какой актер снялся в большем количестве высокобюджетных фильмов?"
   ]
  },
  {
   "cell_type": "code",
   "execution_count": 0,
   "metadata": {
    "colab": {},
    "colab_type": "code",
    "id": "qQtmHKTFVp_k"
   },
   "outputs": [],
   "source": [
    "high_budget = data[data.budget > data.budget.mean()]\n",
    "a = high_budget[high_budget.cast.str.contains(\"Tom Cruise\")][\"original_title\"].count()\n",
    "b = high_budget[high_budget.cast.str.contains(\"Mark Wahlberg\")][\"original_title\"].count()\n",
    "c = high_budget[high_budget.cast.str.contains(\"Matt Damon\")][\"original_title\"].count()\n",
    "d = high_budget[high_budget.cast.str.contains(\"Angelina Jolie\")][\"original_title\"].count()\n",
    "e = high_budget[high_budget.cast.str.contains(\"Adam Sandler\")][\"original_title\"].count()\n",
    "\n",
    "display(a, b, c, d, e)"
   ]
  },
  {
   "cell_type": "code",
   "execution_count": 21,
   "metadata": {},
   "outputs": [],
   "source": [
    "answers['16'] = \"3. Matt Damon\""
   ]
  },
  {
   "cell_type": "code",
   "execution_count": null,
   "metadata": {},
   "outputs": [],
   "source": []
  },
  {
   "cell_type": "markdown",
   "metadata": {
    "colab_type": "text",
    "id": "NIh6AaW5Vp_n"
   },
   "source": [
    "# 17. В фильмах какого жанра больше всего снимался Nicolas Cage? "
   ]
  },
  {
   "cell_type": "code",
   "execution_count": 0,
   "metadata": {
    "colab": {},
    "colab_type": "code",
    "id": "H74SJDIBVp_n"
   },
   "outputs": [],
   "source": [
    "nick = data[data.cast.str.contains(\"Nicolas Cage\")]\n",
    "g1 = nick[nick.genres.str.contains(\"Drama\")][\"original_title\"].count()\n",
    "g2 = nick[nick.genres.str.contains(\"Action\")][\"original_title\"].count()\n",
    "g3 = nick[nick.genres.str.contains(\"Thriller\")][\"original_title\"].count()\n",
    "g4 = nick[nick.genres.str.contains(\"Adventure\")][\"original_title\"].count()\n",
    "g5 = nick[nick.genres.str.contains(\"Crime\")][\"original_title\"].count()\n",
    "\n",
    "g1, g2, g3, g4, g5"
   ]
  },
  {
   "cell_type": "code",
   "execution_count": 22,
   "metadata": {},
   "outputs": [],
   "source": [
    "answers['17'] = \"2. Action\""
   ]
  },
  {
   "cell_type": "markdown",
   "metadata": {
    "colab_type": "text",
    "id": "RqOmPRfWVp_q"
   },
   "source": [
    "# 18. Самый убыточный фильм от Paramount Pictures"
   ]
  },
  {
   "cell_type": "code",
   "execution_count": 0,
   "metadata": {
    "colab": {},
    "colab_type": "code",
    "id": "9E_B0Y96Vp_r"
   },
   "outputs": [],
   "source": [
    "paramount = data[data.production_companies.str.contains(\"Paramount Pictures\")]\n",
    "paramount[paramount.profit == paramount.profit.min()]"
   ]
  },
  {
   "cell_type": "code",
   "execution_count": 23,
   "metadata": {},
   "outputs": [],
   "source": [
    "answers['18'] = \"1. K-19: The Widowmaker (tt0267626)\""
   ]
  },
  {
   "cell_type": "markdown",
   "metadata": {
    "colab_type": "text",
    "id": "vS8Ur6ddVp_u"
   },
   "source": [
    "# 19. Какой год стал самым успешным по суммарным кассовым сборам?"
   ]
  },
  {
   "cell_type": "code",
   "execution_count": 0,
   "metadata": {
    "colab": {},
    "colab_type": "code",
    "id": "Dnbt4GdIVp_v"
   },
   "outputs": [],
   "source": [
    "r_2014 = data[data.release_year == 2014][\"revenue\"].sum()\n",
    "r_2008 = data[data.release_year == 2008][\"revenue\"].sum()\n",
    "r_2012 = data[data.release_year == 2012][\"revenue\"].sum()\n",
    "r_2002 = data[data.release_year == 2002][\"revenue\"].sum()\n",
    "r_2015 = data[data.release_year == 2015][\"revenue\"].sum()\n",
    "\n",
    "display(r_2014, r_2008, r_2012, r_2002, r_2015)"
   ]
  },
  {
   "cell_type": "code",
   "execution_count": 24,
   "metadata": {},
   "outputs": [],
   "source": [
    "answers['19'] = \"5. 2015\""
   ]
  },
  {
   "cell_type": "markdown",
   "metadata": {
    "colab_type": "text",
    "id": "JAzJh4QAVp_z"
   },
   "source": [
    "# 20. Какой самый прибыльный год для студии Warner Bros?"
   ]
  },
  {
   "cell_type": "code",
   "execution_count": 0,
   "metadata": {
    "colab": {},
    "colab_type": "code",
    "id": "wgVu02DEVp_0"
   },
   "outputs": [],
   "source": [
    "Warner_Bros = data[data.production_companies.str.contains(\"Warner Bros\")]\n",
    "Warner_Bros.groupby([\"release_year\"])[\"profit\"].sum().sort_values(ascending = False)"
   ]
  },
  {
   "cell_type": "code",
   "execution_count": 25,
   "metadata": {},
   "outputs": [],
   "source": [
    "answers['20'] = \"1. 2014\""
   ]
  },
  {
   "cell_type": "markdown",
   "metadata": {
    "colab_type": "text",
    "id": "8Im1S2HRVp_4"
   },
   "source": [
    "# 21. В каком месяце за все годы суммарно вышло больше всего фильмов?"
   ]
  },
  {
   "cell_type": "code",
   "execution_count": 0,
   "metadata": {
    "colab": {},
    "colab_type": "code",
    "id": "lev6TH7gVp_4"
   },
   "outputs": [],
   "source": [
    "data['release_date'] = pd.to_datetime(data['release_date'])\n",
    "data.release_date.dt.month.value_counts().sort_values(ascending = False)"
   ]
  },
  {
   "cell_type": "code",
   "execution_count": 36,
   "metadata": {},
   "outputs": [],
   "source": [
    "answers['21'] = \"4. Сентябрь\""
   ]
  },
  {
   "cell_type": "markdown",
   "metadata": {
    "colab_type": "text",
    "id": "uAJsZ_NeVp_7"
   },
   "source": [
    "# 22. Сколько суммарно вышло фильмов летом? (за июнь, июль, август)"
   ]
  },
  {
   "cell_type": "code",
   "execution_count": 0,
   "metadata": {
    "colab": {},
    "colab_type": "code",
    "id": "Aa-hEREoVp_8"
   },
   "outputs": [],
   "source": [
    "a = data.release_date.dt.month.value_counts()\n",
    "a[6] + a[7] + a[8]"
   ]
  },
  {
   "cell_type": "code",
   "execution_count": 26,
   "metadata": {},
   "outputs": [],
   "source": [
    "answers['22'] = \"2. 450\""
   ]
  },
  {
   "cell_type": "markdown",
   "metadata": {
    "colab_type": "text",
    "id": "G94ppOY1VqAA"
   },
   "source": [
    "# 23. Для какого режиссера зима – самое продуктивное время года? "
   ]
  },
  {
   "cell_type": "code",
   "execution_count": 0,
   "metadata": {
    "colab": {},
    "colab_type": "code",
    "id": "RhNTsamuVqAB"
   },
   "outputs": [],
   "source": [
    "data['release_date'] = pd.to_datetime(data['release_date'])\n",
    "\n",
    "d_1 = data[data.director == \"Steven Soderbergh\"]\n",
    "d_1_performance = d_1.release_date.dt.month.value_counts().sort_values(ascending = False)\n",
    "d_1_performance[12] + d_1_performance[1] + d_1_performance[2]\n",
    "\n",
    "d_2 = data[data.director == \"Christopher Nolan\"]\n",
    "d_2_performance = d_2.release_date.dt.month.value_counts().sort_values(ascending = False)\n",
    "\n",
    "d_3 = data[data.director == \"Clint Eastwood\"]\n",
    "d_3_performance = d_3.release_date.dt.month.value_counts().sort_values(ascending = False)\n",
    "d_3_performance\n",
    "\n",
    "d_4 = data[data.director == \"Ridley Scott\"]\n",
    "d_4.release_date.dt.month.value_counts().sort_values(ascending = False)\n",
    "\n",
    "d_5 = data[data.director == \"Ridley Scott\"]\n",
    "d_5.release_date.dt.month.value_counts().sort_values(ascending = False)"
   ]
  },
  {
   "cell_type": "code",
   "execution_count": 27,
   "metadata": {},
   "outputs": [],
   "source": [
    "answers['23'] = \"3. Clint Eastwood\""
   ]
  },
  {
   "cell_type": "markdown",
   "metadata": {
    "colab_type": "text",
    "id": "RBo0JVjVVqAF"
   },
   "source": [
    "# 24. Какая студия дает самые длинные названия своим фильмам по количеству символов?"
   ]
  },
  {
   "cell_type": "code",
   "execution_count": 0,
   "metadata": {
    "colab": {},
    "colab_type": "code",
    "id": "QRGS8L0iVqAG"
   },
   "outputs": [],
   "source": [
    "q_24_1 = data[data.production_companies.str.contains(\"Universal\")]\n",
    "len(q_24_1.original_title.max())\n",
    "\n",
    "q_24_2 = data[data.production_companies.str.contains(\"Warner Bros\")]\n",
    "len(q_24_2.original_title.max())\n",
    "\n",
    "q_24_3 = data[data.production_companies.str.contains(\"Jim Henson Company\")]\n",
    "len(q_24_3.original_title.max())\n",
    "\n",
    "q_24_4 = data[data.production_companies.str.contains(\"Paramount Pictures\")]\n",
    "len(q_24_4.original_title.max())\n",
    "\n",
    "q_24_5 = data[data.production_companies.str.contains(\"Four By Two Productions\")]\n",
    "len(q_24_5.original_title.max())"
   ]
  },
  {
   "cell_type": "code",
   "execution_count": 28,
   "metadata": {},
   "outputs": [],
   "source": [
    "answers['24'] = \"5. Four By Two Productions\""
   ]
  },
  {
   "cell_type": "markdown",
   "metadata": {
    "colab_type": "text",
    "id": "9G0hbvR7VqAK"
   },
   "source": [
    "# 25. Описание фильмов какой студии в среднем самые длинные по количеству слов?"
   ]
  },
  {
   "cell_type": "code",
   "execution_count": 0,
   "metadata": {
    "colab": {},
    "colab_type": "code",
    "id": "Ge2GsLNxVqAK"
   },
   "outputs": [],
   "source": [
    "data[\"overview_length\"] = data.overview.map(lambda x: len(x))\n",
    "\n",
    "len_1 = data[data.production_companies.str.contains (\"Universal Pictures\")][\"overview_length\"].mean()\n",
    "len_2 = data[data.production_companies.str.contains (\"Warner Bros\")][\"overview_length\"].mean()\n",
    "len_3 = data[data.production_companies.str.contains (\"Midnight Picture Show\")][\"overview_length\"].mean()\n",
    "len_4 = data[data.production_companies.str.contains (\"Paramount Pictures\")][\"overview_length\"].mean()\n",
    "len_5 = data[data.production_companies.str.contains (\"Total Entertainment\")][\"overview_length\"].mean()\n",
    "\n",
    "len_1, len_2, len_3, len_4, len_5"
   ]
  },
  {
   "cell_type": "code",
   "execution_count": 29,
   "metadata": {},
   "outputs": [],
   "source": [
    "answers['25'] = \"3. Midnight Picture Show\""
   ]
  },
  {
   "cell_type": "markdown",
   "metadata": {
    "colab_type": "text",
    "id": "FJ1AFt90VqAP"
   },
   "source": [
    "# 26. Какие фильмы входят в 1 процент лучших по рейтингу? \n",
    "по vote_average"
   ]
  },
  {
   "cell_type": "code",
   "execution_count": 0,
   "metadata": {
    "colab": {},
    "colab_type": "code",
    "id": "8qmJVq4CVqAQ"
   },
   "outputs": [],
   "source": [
    "data.groupby([\"original_title\"])[\"vote_average\"].max().sort_values(ascending = False)"
   ]
  },
  {
   "cell_type": "code",
   "execution_count": 30,
   "metadata": {},
   "outputs": [],
   "source": [
    "answers['26'] = \"1. Inside Out, The Dark Knight, 12 Years a Slave\""
   ]
  },
  {
   "cell_type": "markdown",
   "metadata": {
    "colab_type": "text",
    "id": "MdXsUXbCVqAV"
   },
   "source": [
    "# 27. Какие актеры чаще всего снимаются в одном фильме вместе?\n"
   ]
  },
  {
   "cell_type": "markdown",
   "metadata": {
    "colab_type": "text",
    "id": "4ymnxEVoVqAW"
   },
   "source": [
    "ВАРИАНТ 2"
   ]
  },
  {
   "cell_type": "code",
   "execution_count": null,
   "metadata": {},
   "outputs": [],
   "source": [
    "option_1 = data[(data.cast.str.contains(\"Johnny Depp\")) & (data.cast.str.contains(\"Helena Bonham Carter\"))].count()\n",
    "option_2 = data[(data.cast.str.contains(\"Ben Stiller\")) & (data.cast.str.contains(\"Owen Wilson\"))].count()\n",
    "option_3 = data[(data.cast.str.contains(\"Vin Diesel\")) & (data.cast.str.contains(\"Paul Walker\"))].count()\n",
    "option_4 = data[(data.cast.str.contains(\"Adam Sandler\")) & (data.cast.str.contains(\"Kevin James\"))].count()\n",
    "option_5 = data[(data.cast.str.contains(\"Daniel Radcliffe\")) & (data.cast.str.contains(\"Rupert Grint\"))].count()\n",
    "\n",
    "option_1, option_2, option_3, option_4, option_5"
   ]
  },
  {
   "cell_type": "code",
   "execution_count": 31,
   "metadata": {},
   "outputs": [],
   "source": [
    "answers['27'] = \"5. Daniel Radcliffe & Rupert Grint\""
   ]
  },
  {
   "cell_type": "markdown",
   "metadata": {
    "colab_type": "text",
    "id": "U0nONFnGVqAX"
   },
   "source": [
    "# Submission"
   ]
  },
  {
   "cell_type": "code",
   "execution_count": 37,
   "metadata": {
    "colab": {},
    "colab_type": "code",
    "id": "IfcaRO9-VqAX",
    "outputId": "0f132912-32bb-4196-c98c-abfbc4ad5a5f"
   },
   "outputs": [
    {
     "data": {
      "text/plain": [
       "{'1': '5. Pirates of the Caribbean: On Stranger Tides (tt1298650)',\n",
       " '4': '2. 110',\n",
       " '2': '2. 110 верно',\n",
       " '3': '3. Winnie the Pooh (tt1449283)',\n",
       " '5': '1. 107',\n",
       " '6': '5. Avatar (tt0499549)',\n",
       " '7': '5. The Lone Ranger (tt1210819)',\n",
       " '8': '1. 1478',\n",
       " '9': '4. The Dark Knight (tt0468569)',\n",
       " '10': '5. The Lone Ranger (tt1210819)',\n",
       " '11': '3. Drama',\n",
       " '12': '1. Drama',\n",
       " '13': '5. Peter Jackson',\n",
       " '14': '1. Ridley Scott',\n",
       " '15': '3. Chris Hemsworth',\n",
       " '16': '3. Matt Damon',\n",
       " '17': '2. Action',\n",
       " '18': '1. K-19: The Widowmaker (tt0267626)',\n",
       " '19': '5. 2015',\n",
       " '20': '1. 2014',\n",
       " '22': '2. 450',\n",
       " '23': '3. Clint Eastwood',\n",
       " '24': '5. Four By Two Productions',\n",
       " '25': '3. Midnight Picture Show',\n",
       " '26': '1. Inside Out, The Dark Knight, 12 Years a Slave',\n",
       " '27': '5. Daniel Radcliffe & Rupert Grint',\n",
       " '21': '4. Сентябрь'}"
      ]
     },
     "execution_count": 37,
     "metadata": {},
     "output_type": "execute_result"
    }
   ],
   "source": [
    "# в конце можно посмотреть свои ответы к каждому вопросу\n",
    "answers"
   ]
  },
  {
   "cell_type": "code",
   "execution_count": 38,
   "metadata": {
    "colab": {},
    "colab_type": "code",
    "id": "SiRmHPl8VqAd"
   },
   "outputs": [
    {
     "data": {
      "text/plain": [
       "27"
      ]
     },
     "execution_count": 38,
     "metadata": {},
     "output_type": "execute_result"
    }
   ],
   "source": [
    "# и убедиться что ни чего не пропустил)\n",
    "len(answers)"
   ]
  },
  {
   "cell_type": "code",
   "execution_count": 0,
   "metadata": {
    "colab": {},
    "colab_type": "code",
    "id": "uCfuTkRbVqAg"
   },
   "outputs": [],
   "source": []
  },
  {
   "cell_type": "code",
   "execution_count": 0,
   "metadata": {
    "colab": {},
    "colab_type": "code",
    "id": "Vwx3NrkSVqAl"
   },
   "outputs": [],
   "source": []
  }
 ],
 "metadata": {
  "colab": {
   "name": "Copy of [SF-DST] Movies IMBD v4.1 TEMPLATE.ipynb",
   "provenance": []
  },
  "kernelspec": {
   "display_name": "Python 3",
   "language": "python",
   "name": "python3"
  },
  "language_info": {
   "codemirror_mode": {
    "name": "ipython",
    "version": 3
   },
   "file_extension": ".py",
   "mimetype": "text/x-python",
   "name": "python",
   "nbconvert_exporter": "python",
   "pygments_lexer": "ipython3",
   "version": "3.7.6"
  }
 },
 "nbformat": 4,
 "nbformat_minor": 1
}
